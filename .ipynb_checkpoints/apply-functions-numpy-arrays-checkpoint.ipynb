{
 "cells": [
  {
   "cell_type": "markdown",
   "metadata": {},
   "source": [
    "## Example: Recalculate Numpy Array\n",
    "\n",
    "In the previous lesson, you learned how to write custom functions to calculate results. However, you noticed that your function did not actually update the values of the original data. \n",
    "\n",
    "To do that, you need to assign the results of the function to a new variable. Luckily, the syntax will look familiar. \n",
    "\n",
    "For example, take the custom function that converts inches to millimeters (e.g. `in_to_mm`). You can provide a `numpy array` as the input, and you receive an output that displays the recalculated values."
   ]
  },
  {
   "cell_type": "code",
   "execution_count": 3,
   "metadata": {},
   "outputs": [
    {
     "data": {
      "text/plain": [
       "array([27.178, 11.176, 38.1  ,  5.08 , 81.28 , 29.972,  2.286, 36.576,\n",
       "       38.608, 61.976, 19.812,  0.508])"
      ]
     },
     "execution_count": 3,
     "metadata": {},
     "output_type": "execute_result"
    }
   ],
   "source": [
    "# import necessary package\n",
    "import numpy as np\n",
    "\n",
    "# input parameter: numpy array for average monthly precip (inches) in 2002 for Boulder, CO\n",
    "avg_monthly_precip_2002_in = np.array([1.07, 0.44, 1.50, 0.20, 3.20, 1.18, 0.09, 1.44, 1.52, 2.44, 0.78, 0.02])\n",
    "\n",
    "# print data in `arrayname_in`\n",
    "avg_monthly_precip_2002_in\n",
    "\n",
    "# define function to convert inches to millimeters\n",
    "def in_to_mm(x):\n",
    "    \n",
    "    # multiply an input parameter by 25.4\n",
    "    # function can take a single value, single value variable, or numpy array as input\n",
    "    # function can not take list or pandas dataframe as input\n",
    "    \n",
    "    return (x * 25.4)\n",
    "\n",
    "# call the function to run on numpy array for 2002\n",
    "in_to_mm(avg_monthly_precip_2002_in)"
   ]
  },
  {
   "cell_type": "markdown",
   "metadata": {},
   "source": [
    "If you print the data in `avg_monthly_precip_2002_in`, you will see that original data was not modified, and only acted as the input parameter for the function. \n",
    "\n",
    "Also recall that `x` is still not an explicit variable. It is simply a placeholder for the input parameter."
   ]
  },
  {
   "cell_type": "code",
   "execution_count": 4,
   "metadata": {},
   "outputs": [
    {
     "name": "stdout",
     "output_type": "stream",
     "text": [
      "[1.07 0.44 1.5  0.2  3.2  1.18 0.09 1.44 1.52 2.44 0.78 0.02]\n"
     ]
    },
    {
     "ename": "NameError",
     "evalue": "name 'x' is not defined",
     "output_type": "error",
     "traceback": [
      "\u001b[1;31m---------------------------------------------------------------------------\u001b[0m",
      "\u001b[1;31mNameError\u001b[0m                                 Traceback (most recent call last)",
      "\u001b[1;32m<ipython-input-4-017dbaf32836>\u001b[0m in \u001b[0;36m<module>\u001b[1;34m\u001b[0m\n\u001b[0;32m      3\u001b[0m \u001b[1;33m\u001b[0m\u001b[0m\n\u001b[0;32m      4\u001b[0m \u001b[1;31m# uncomment line to run, as it will result in an error\u001b[0m\u001b[1;33m\u001b[0m\u001b[1;33m\u001b[0m\u001b[1;33m\u001b[0m\u001b[0m\n\u001b[1;32m----> 5\u001b[1;33m \u001b[0mprint\u001b[0m\u001b[1;33m(\u001b[0m\u001b[0mx\u001b[0m\u001b[1;33m)\u001b[0m\u001b[1;33m\u001b[0m\u001b[1;33m\u001b[0m\u001b[0m\n\u001b[0m",
      "\u001b[1;31mNameError\u001b[0m: name 'x' is not defined"
     ]
    }
   ],
   "source": [
    "# print data in arrayname\n",
    "print(avg_monthly_precip_2002_in)\n",
    "\n",
    "# uncomment line to run, as it will result in an error\n",
    "print(x)"
   ]
  },
  {
   "cell_type": "markdown",
   "metadata": {},
   "source": [
    "You can actually assign the results of the function to a new `numpy array` by creating a new variable and setting it equal to the results of the function. \n",
    "\n",
    "To store these values, you need to create a new `numpy array` and set it equal to a `numpy array` created from function output. \n",
    "\n",
    "You can do this using the syntax `arrayname = np.array(function(parameter))`.\n",
    "\n",
    "This code line does multiple things at once: it runs the function on the input parameter, and then creates a `numpy array` from the output."
   ]
  },
  {
   "cell_type": "code",
   "execution_count": 5,
   "metadata": {},
   "outputs": [
    {
     "data": {
      "text/plain": [
       "array([27.178, 11.176, 38.1  ,  5.08 , 81.28 , 29.972,  2.286, 36.576,\n",
       "       38.608, 61.976, 19.812,  0.508])"
      ]
     },
     "execution_count": 5,
     "metadata": {},
     "output_type": "execute_result"
    }
   ],
   "source": [
    "# assign the output of the function to a new array \n",
    "avg_monthly_precip_2002_mm = np.array(in_to_mm(avg_monthly_precip_2002_in))\n",
    "\n",
    "# print data in new array\n",
    "avg_monthly_precip_2002_mm"
   ]
  },
  {
   "cell_type": "markdown",
   "metadata": {},
   "source": [
    "In this example, the input `numpy array` is one-dimensional, as is the `numpy array` created from the output. \n",
    "\n",
    "**How can you check that both `avg_monthly_precip_2002_in` and `avg_monthly_precip_2002_mm` are one-dimensional arrays?**\n",
    "\n",
    "\n",
    "## Example: Calculate Multiple Statistics of Numpy Array\n",
    "\n",
    "In the lesson on loops, you learned how to loop through a list to calculate multiple summary statistics such as mean, sum, and median on `numpy arrays`. \n",
    "\n",
    "You can also write a custom function that will run multiple summary functions on an input `numpy array` and store the output of the function as a new `numpy array`.\n",
    "\n",
    "As you know that `x` was just a placeholder for the input array, you can start to use more specific placeholder names for the input parameter, such as `array`. "
   ]
  },
  {
   "cell_type": "code",
   "execution_count": 6,
   "metadata": {},
   "outputs": [],
   "source": [
    "# define function to calculate mean of numpy array\n",
    "\n",
    "def min_max_stats(array):\n",
    "    \n",
    "    # calculate min and max of numpy array\n",
    "    # function can take a numpy array as input\n",
    "    # function can not take list or pandas dataframe as input\n",
    "    \n",
    "    stat_min = np.min(array)\n",
    "    stat_max = np.max(array)\n",
    "    \n",
    "    return(stat_min, stat_max)"
   ]
  },
  {
   "cell_type": "markdown",
   "metadata": {},
   "source": [
    "Note that you can include multiple lines of code before the return statement, and you can return multiple outputs.\n",
    "\n",
    "In this example, the function is returning the minimum and maximum values of the input `numpy array`, which is an one-dimensional array. \n",
    "\n",
    "Run the function to see the output."
   ]
  },
  {
   "cell_type": "code",
   "execution_count": 7,
   "metadata": {},
   "outputs": [
    {
     "data": {
      "text/plain": [
       "(0.508, 81.28)"
      ]
     },
     "execution_count": 7,
     "metadata": {},
     "output_type": "execute_result"
    }
   ],
   "source": [
    "# call function with input parameter `avg_monthly_precip_2002_mm`\n",
    "min_max_stats(avg_monthly_precip_2002_mm)"
   ]
  },
  {
   "cell_type": "markdown",
   "metadata": {},
   "source": [
    "You can see that the summary values are not returned a `numpy array`. \n",
    "\n",
    "This is because the output is simply displaying the summary result of the first statistics (i.e. `min`) and then displaying the summary result of the second statistics (i.e. `max`). \n",
    "\n",
    "Once more, to store these values, you need to create a new `numpy array` and set it equal to a `numpy array` created from function output. "
   ]
  },
  {
   "cell_type": "code",
   "execution_count": 8,
   "metadata": {},
   "outputs": [
    {
     "data": {
      "text/plain": [
       "array([ 0.508, 81.28 ])"
      ]
     },
     "execution_count": 8,
     "metadata": {},
     "output_type": "execute_result"
    }
   ],
   "source": [
    "# call the function with input parameter and create new array from output using the np.array() function\n",
    "min_max_precip_2002 = np.array(min_max_stats(avg_monthly_precip_2002_mm))\n",
    "\n",
    "#print data\n",
    "min_max_precip_2002"
   ]
  },
  {
   "cell_type": "markdown",
   "metadata": {},
   "source": [
    "You can see that the two values returned from the function are now stored as a new one-dimensional array, with the values in the same order that they are provided in the return statement. \n",
    "\n",
    "You can check the number of dimensions of this new `numpy array` using the `.ndim` attribute of `numpy arrays`, in addition to checking the number of rows and columns with the attribute `.shape`."
   ]
  },
  {
   "cell_type": "code",
   "execution_count": 9,
   "metadata": {},
   "outputs": [
    {
     "data": {
      "text/plain": [
       "(2,)"
      ]
     },
     "execution_count": 9,
     "metadata": {},
     "output_type": "execute_result"
    }
   ],
   "source": [
    "# print number of rows/columns using the .shape attribute of numpy arrays\n",
    "min_max_precip_2002.shape"
   ]
  },
  {
   "cell_type": "code",
   "execution_count": 10,
   "metadata": {},
   "outputs": [
    {
     "data": {
      "text/plain": [
       "1"
      ]
     },
     "execution_count": 10,
     "metadata": {},
     "output_type": "execute_result"
    }
   ],
   "source": [
    "# print number of dimensions using the .ndim attribute of numpy arrays\n",
    "min_max_precip_2002.ndim"
   ]
  },
  {
   "cell_type": "markdown",
   "metadata": {},
   "source": [
    "### Two-dimensional Arrays\n",
    "\n",
    "You can also run the previously created function on a two-dimensional `numpy array` to find the minimum and maximum values across the array.\n",
    "\n",
    "First, begin by applying your first function `in_to_mm` to convert the values and save the output to a new `numpy array`. "
   ]
  },
  {
   "cell_type": "code",
   "execution_count": 11,
   "metadata": {},
   "outputs": [
    {
     "data": {
      "text/plain": [
       "array([[ 27.178,  11.176,  38.1  ,   5.08 ,  81.28 ,  29.972,   2.286,\n",
       "         36.576,  38.608,  61.976,  19.812,   0.508],\n",
       "       [  6.858,  28.702,  43.688, 105.156,  67.564,  15.494,  26.162,\n",
       "         35.56 , 461.264,  56.896,   7.366,  12.7  ]])"
      ]
     },
     "execution_count": 11,
     "metadata": {},
     "output_type": "execute_result"
    }
   ],
   "source": [
    "# manually create a new numpy array for average monthly precip in 2002 for Boulder, CO\n",
    "avg_monthly_precip_2002_2013_in = np.array([[1.07, 0.44, 1.50, 0.20, 3.20, 1.18, 0.09, 1.44, 1.52, 2.44, 0.78, 0.02], \n",
    "                                         [0.27, 1.13, 1.72, 4.14, 2.66, 0.61, 1.03, 1.40, 18.16, 2.24, 0.29, 0.50] ])\n",
    "\n",
    "# call in_to_mm function with input parameter and create new array from output\n",
    "avg_monthly_precip_2002_2013_mm = in_to_mm(avg_monthly_precip_2002_2013_in)\n",
    "\n",
    "#print data\n",
    "avg_monthly_precip_2002_2013_mm"
   ]
  },
  {
   "cell_type": "markdown",
   "metadata": {},
   "source": [
    "Then, apply the function `min_max_stats` to your new `numpy array`. "
   ]
  },
  {
   "cell_type": "code",
   "execution_count": 12,
   "metadata": {},
   "outputs": [
    {
     "data": {
      "text/plain": [
       "(0.508, 461.26399999999995)"
      ]
     },
     "execution_count": 12,
     "metadata": {},
     "output_type": "execute_result"
    }
   ],
   "source": [
    "# call the min_max_stats function with input parameter\n",
    "min_max_stats(avg_monthly_precip_2002_2013_mm)"
   ]
  },
  {
   "cell_type": "markdown",
   "metadata": {},
   "source": [
    "Notice that the minimum value was identified in the first row of the two-dimensional array, while the maximum value was identified in the second row of the two-dimensional array.\n",
    "\n",
    "**In this example, did you save the output results to a new `numpy array`?** \n",
    "\n",
    "\n",
    "## Example: Calculate Statistics Across Numpy Array Axes\n",
    "\n",
    "You can also expand your function to calculate the statistics separately for each row or each column in the two-dimensional `numpy array`, using the axes of `numpy arrays`. \n",
    "\n",
    "This means that you would receive one summary value for each row or each column in the two-dimensional `numpy array`.\n",
    "\n",
    "### Calculate Across Rows\n",
    "\n",
    "To run a summary statistic for each row of a two-dimensional array, you can add a parameter `axis = 1` to the `numpy` function that you are using to run the summary statistic.\n",
    "\n",
    "In the example below, the maximum value for each row is identified using `axis = 1` as a parameter in the `np.max()` function. \n",
    "\n",
    "As there were only two rows in the `numpy array`, the function will only return two values (i.e. one maximum value for each row in the array). Recall that the data only contained two years of data."
   ]
  },
  {
   "cell_type": "code",
   "execution_count": 13,
   "metadata": {},
   "outputs": [
    {
     "data": {
      "text/plain": [
       "array([ 81.28 , 461.264])"
      ]
     },
     "execution_count": 13,
     "metadata": {},
     "output_type": "execute_result"
    }
   ],
   "source": [
    "# define function to calculate max across rows of two-dimensional numpy array\n",
    "\n",
    "def max_stats_rows(array):\n",
    "    \n",
    "    # calculate max of two-dimensional numpy array for each row\n",
    "    # function can take a numpy array as input\n",
    "    # function can not take list or pandas dataframe as input\n",
    "    \n",
    "    stat_max_row = np.max(array, axis = 1)\n",
    "    return(stat_max_row)\n",
    "\n",
    "# call the function with input parameter\n",
    "max_stats_rows(avg_monthly_precip_2002_2013_mm)"
   ]
  },
  {
   "cell_type": "markdown",
   "metadata": {},
   "source": [
    "### Calculate Across Columns\n",
    "\n",
    "Similarly, you can use `axis = 0` to run a summary statistic separately for each column of a two-dimensional array.\n",
    "\n",
    "In the example below, the maximum value for each column of the two-dimensional array is identified using `axis = 0` as a parameter in the `np.max()` function. \n",
    "\n",
    "As there were twelve columns in the `numpy array`, the function will return twelve values (i.e. one maximum value for each column in the array). Recall that the data contained values for each month of the year."
   ]
  },
  {
   "cell_type": "code",
   "execution_count": 14,
   "metadata": {},
   "outputs": [
    {
     "data": {
      "text/plain": [
       "array([ 27.178,  28.702,  43.688, 105.156,  81.28 ,  29.972,  26.162,\n",
       "        36.576, 461.264,  61.976,  19.812,  12.7  ])"
      ]
     },
     "execution_count": 14,
     "metadata": {},
     "output_type": "execute_result"
    }
   ],
   "source": [
    "# define function to calculate max across columns of two-dimensional numpy array\n",
    "\n",
    "def max_stats_columns(array):\n",
    "\n",
    "    # calculate max of two-dimensional numpy array for each row\n",
    "    # function can take a numpy array as input\n",
    "    # function can not take list or pandas dataframe as input\n",
    "    \n",
    "    stat_max_column = np.max(array, axis = 0)\n",
    "    return(stat_max_column)\n",
    "\n",
    "# call the function with input parameter\n",
    "max_stats_columns(avg_monthly_precip_2002_2013_mm)"
   ]
  },
  {
   "cell_type": "markdown",
   "metadata": {},
   "source": [
    "### Assign Output of Function to New Numpy Array\n",
    "\n",
    "Again, notice that when you try to print `stat_max_row` or `stat_max_column`, you get an error. "
   ]
  },
  {
   "cell_type": "code",
   "execution_count": 15,
   "metadata": {},
   "outputs": [
    {
     "ename": "NameError",
     "evalue": "name 'stat_max_row' is not defined",
     "output_type": "error",
     "traceback": [
      "\u001b[1;31m---------------------------------------------------------------------------\u001b[0m",
      "\u001b[1;31mNameError\u001b[0m                                 Traceback (most recent call last)",
      "\u001b[1;32m<ipython-input-15-6fb0282c7349>\u001b[0m in \u001b[0;36m<module>\u001b[1;34m\u001b[0m\n\u001b[0;32m      1\u001b[0m \u001b[1;31m# uncomment line to run, as it will result in an error\u001b[0m\u001b[1;33m\u001b[0m\u001b[1;33m\u001b[0m\u001b[1;33m\u001b[0m\u001b[0m\n\u001b[1;32m----> 2\u001b[1;33m \u001b[0mprint\u001b[0m\u001b[1;33m(\u001b[0m\u001b[0mstat_max_row\u001b[0m\u001b[1;33m)\u001b[0m\u001b[1;33m\u001b[0m\u001b[1;33m\u001b[0m\u001b[0m\n\u001b[0m\u001b[0;32m      3\u001b[0m \u001b[1;33m\u001b[0m\u001b[0m\n\u001b[0;32m      4\u001b[0m \u001b[1;31m# uncomment line to run, as it will result in an error\u001b[0m\u001b[1;33m\u001b[0m\u001b[1;33m\u001b[0m\u001b[1;33m\u001b[0m\u001b[0m\n\u001b[0;32m      5\u001b[0m \u001b[0mprint\u001b[0m\u001b[1;33m(\u001b[0m\u001b[0mstat_max_column\u001b[0m\u001b[1;33m)\u001b[0m\u001b[1;33m\u001b[0m\u001b[1;33m\u001b[0m\u001b[0m\n",
      "\u001b[1;31mNameError\u001b[0m: name 'stat_max_row' is not defined"
     ]
    }
   ],
   "source": [
    "# uncomment line to run, as it will result in an error\n",
    "print(stat_max_row)\n",
    "\n",
    "# uncomment line to run, as it will result in an error\n",
    "print(stat_max_column)"
   ]
  },
  {
   "cell_type": "markdown",
   "metadata": {},
   "source": [
    "Although the output of these functions look like one-dimensional arrays, the results have not explicitly been saved as one-dimensional arrays. \n",
    "\n",
    "Just like in the example earlier, you can assign the results of the function to a new `numpy array` by creating a new variable and setting it equal to the results of the function. "
   ]
  },
  {
   "cell_type": "code",
   "execution_count": 16,
   "metadata": {},
   "outputs": [
    {
     "data": {
      "text/plain": [
       "array([ 81.28 , 461.264])"
      ]
     },
     "execution_count": 16,
     "metadata": {},
     "output_type": "execute_result"
    }
   ],
   "source": [
    "# call the function with input parameter and create new array from output\n",
    "yearmax_avg_precip_2002_2013 = np.array(max_stats_rows(avg_monthly_precip_2002_2013_mm))\n",
    "\n",
    "# print data in yearmax_avg_monthly_precip_2002_2013\n",
    "yearmax_avg_precip_2002_2013"
   ]
  },
  {
   "cell_type": "markdown",
   "metadata": {},
   "source": [
    "## Optional Challenge 1\n",
    "\n",
    "Test your `Python` skills to:\n",
    "\n",
    "1. Write a function that identifies the **minimum** value of each **column** in a two-dimensional `numpy array` (e.g. `avg_monthly_precip_2002_2013_mm`).\n",
    "\n",
    "2. Run the function on `avg_monthly_precip_2002_2013_mm` and assign the output to a new `numpy array`. Print your new `numpy array` to see the minimum values for each columm (i.e. each month of data)."
   ]
  },
  {
   "cell_type": "code",
   "execution_count": 17,
   "metadata": {},
   "outputs": [
    {
     "data": {
      "text/plain": [
       "array([ 6.858, 11.176, 38.1  ,  5.08 , 67.564, 15.494,  2.286, 35.56 ,\n",
       "       38.608, 56.896,  7.366,  0.508])"
      ]
     },
     "execution_count": 17,
     "metadata": {},
     "output_type": "execute_result"
    }
   ],
   "source": [
    "def min_stats_columns(array):\n",
    "\n",
    "    # calculate min of two-dimensional numpy array for each row\n",
    "    # function can take a numpy array as input\n",
    "    # function can not take list or pandas dataframe as input\n",
    "    \n",
    "    stat_min_column = np.min(array, axis = 0)\n",
    "    return(stat_min_column)\n",
    "\n",
    "# call the function with input parameter\n",
    "min_stats_columns(avg_monthly_precip_2002_2013_mm)\n",
    "\n",
    "# call the function with input parameter and create new array from output\n",
    "yearmin_avg_precip_2002_2013 = np.array(min_stats_columns(avg_monthly_precip_2002_2013_mm))\n",
    "\n",
    "# print data in yearmax_avg_monthly_precip_2002_2013\n",
    "yearmin_avg_precip_2002_2013"
   ]
  },
  {
   "cell_type": "markdown",
   "metadata": {},
   "source": [
    "## Optional Challenge 2\n",
    "\n",
    "Test your `Python` skills to:\n",
    "\n",
    "1. Check that the `numpy array` that created from the output in the previous challenge is a one-dimensional array. \n",
    "    * Hint: in addition to the attribute `arrayname.shape`, you can also run `arrayname.ndim` to get an exact number of dimensions. \n"
   ]
  },
  {
   "cell_type": "code",
   "execution_count": 18,
   "metadata": {},
   "outputs": [
    {
     "name": "stdout",
     "output_type": "stream",
     "text": [
      "(12,)\n",
      "\n",
      "1\n"
     ]
    }
   ],
   "source": [
    "# check the array shape\n",
    "print(yearmin_avg_precip_2002_2013.shape)\n",
    "\n",
    "# call .ndim to get an exact number of dimensions\n",
    "print(\"\")\n",
    "print(yearmin_avg_precip_2002_2013.ndim)"
   ]
  },
  {
   "cell_type": "markdown",
   "metadata": {},
   "source": [
    "#### *jbot*"
   ]
  },
  {
   "cell_type": "code",
   "execution_count": null,
   "metadata": {},
   "outputs": [],
   "source": []
  }
 ],
 "metadata": {
  "celltoolbar": "Tags",
  "kernelspec": {
   "display_name": "Python 3",
   "language": "python",
   "name": "python3"
  },
  "language_info": {
   "codemirror_mode": {
    "name": "ipython",
    "version": 3
   },
   "file_extension": ".py",
   "mimetype": "text/x-python",
   "name": "python",
   "nbconvert_exporter": "python",
   "pygments_lexer": "ipython3",
   "version": "3.7.4"
  }
 },
 "nbformat": 4,
 "nbformat_minor": 2
}
