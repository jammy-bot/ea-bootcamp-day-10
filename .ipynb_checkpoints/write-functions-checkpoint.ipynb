{
 "cells": [
  {
   "cell_type": "markdown",
   "metadata": {},
   "source": [
    "## Write a Function in Python"
   ]
  },
  {
   "cell_type": "code",
   "execution_count": 1,
   "metadata": {},
   "outputs": [],
   "source": [
    "# this is an example function that adds the value of five to any input parameter\n",
    "# x is the placeholder for the input parameter and will be assigned when the function is called\n",
    "\n",
    "def add_five(x):\n",
    "    \n",
    "    # add the value of 5 to an input parameter\n",
    "    # function can take a single value, single value variable, or numpy array as input\n",
    "    # function can not take list or pandas dataframe as input\n",
    "    \n",
    "    return (x + 5)"
   ]
  },
  {
   "cell_type": "markdown",
   "metadata": {},
   "source": [
    "There are several parts of a function in `Python`:\n",
    "\n",
    "1. Functions begins with the keyword **`def`**: this keyword initiates the function definition. It is followed by the function name and input parameter in parenthesis `()`. \n",
    "\n",
    "Just like with loops and conditional statements, the colon `:` is used to indicate that the definition (i.e. code) of the function is below. Also, note that the code lines below are indented once, just like with loops and conditional statements. \n",
    "\n",
    "2. **Function name** (e.g. `add_five`). This is the name that you will use when you call the function. \n",
    "\n",
    "For example, `add_five(x)` is a function with the name `add_five`. You pass this function the parameter value for `x` within parenthesis `()`, and it adds the value `5` to `x` (i.e. the value that has been passed to the function). \n",
    "\n",
    "3. **Input parameters**: An input parameter is what you pass the function as the required information for the function to run. The function will take the value or variable provided as the input parameter and use it to perform some task. \n",
    "\n",
    "In the example above, `x` is actually a placeholder for the variable that will be acted upon in the function (i.e. the variable that will have the value of 5 added to it). \n",
    "    \n",
    "Notice that `x` has not been explicitly defined outside of the function. It does not need to be because it will actually be defined by the user of the function when the function is called (e.g. `add_five(5)`). \n",
    "\n",
    "4. **Return statement**: This statement returns the value of the code executed in the function, using the syntax `return (output)`. \n",
    "\n",
    "If the function is as simple as the example above, the return statement also contains the code that is being executed in the function to determine the output value. However, you can write more lines of code before the return statement, and then return the final output.\n",
    "\n",
    "5. **Documentation**: Documentation is not required for the function to work. However, good documentation will save you time in the future when you need to use this code again, and it also helps other understand how they can use the function.\n",
    "\n",
    "In the example above, the documentation has noted that the input parameter can be a single value variable or a `numpy array`, but it cannot be a list or `pandas dataframe`.\n",
    "\n",
    "\n",
    "## Call a Function in Python\n",
    "\n",
    "Below is an example call to this function. Again, notice that you do not have to create a variable `x` in order to give the function a parameter value. \n",
    "\n",
    "You can simply give the function a value `3` as the input parameter, and the function will add the value `5` and return the value `8`."
   ]
  },
  {
   "cell_type": "code",
   "execution_count": 2,
   "metadata": {},
   "outputs": [
    {
     "data": {
      "text/plain": [
       "8"
      ]
     },
     "execution_count": 2,
     "metadata": {},
     "output_type": "execute_result"
    }
   ],
   "source": [
    "# this is an example call to the add_five function using a single value\n",
    "add_five(3)"
   ]
  },
  {
   "cell_type": "markdown",
   "metadata": {},
   "source": [
    "Notice that you will get an error if you try to print the value of `x`.\n",
    "\n",
    "Is `x` an explicit variable? What role does `x` play in the function?"
   ]
  },
  {
   "cell_type": "code",
   "execution_count": 3,
   "metadata": {},
   "outputs": [
    {
     "ename": "NameError",
     "evalue": "name 'x' is not defined",
     "output_type": "error",
     "traceback": [
      "\u001b[1;31m---------------------------------------------------------------------------\u001b[0m",
      "\u001b[1;31mNameError\u001b[0m                                 Traceback (most recent call last)",
      "\u001b[1;32m<ipython-input-3-a280f6528955>\u001b[0m in \u001b[0;36m<module>\u001b[1;34m\u001b[0m\n\u001b[0;32m      1\u001b[0m \u001b[1;31m# uncomment line to run, as it will result in an error\u001b[0m\u001b[1;33m\u001b[0m\u001b[1;33m\u001b[0m\u001b[1;33m\u001b[0m\u001b[0m\n\u001b[1;32m----> 2\u001b[1;33m \u001b[0mprint\u001b[0m\u001b[1;33m(\u001b[0m\u001b[0mx\u001b[0m\u001b[1;33m)\u001b[0m\u001b[1;33m\u001b[0m\u001b[1;33m\u001b[0m\u001b[0m\n\u001b[0m",
      "\u001b[1;31mNameError\u001b[0m: name 'x' is not defined"
     ]
    }
   ],
   "source": [
    "# uncomment line to run, as it will result in an error\n",
    "print(x)"
   ]
  },
  {
   "cell_type": "markdown",
   "metadata": {},
   "source": [
    "Because the function is well documented, you know that you can also provide an existing `numpy array` as the input."
   ]
  },
  {
   "cell_type": "code",
   "execution_count": 4,
   "metadata": {},
   "outputs": [
    {
     "data": {
      "text/plain": [
       "array([6.8 , 5.68])"
      ]
     },
     "execution_count": 4,
     "metadata": {},
     "output_type": "execute_result"
    }
   ],
   "source": [
    "# import necessary package\n",
    "import numpy as np\n",
    "\n",
    "# create numpy array that will be used as input parameter\n",
    "arrayname = np.array([1.8, 0.68])\n",
    "\n",
    "# this is an example call to the add_five function\n",
    "add_five(arrayname)"
   ]
  },
  {
   "cell_type": "markdown",
   "metadata": {},
   "source": [
    "Notice the output that you receive when you call the original variable `arrayname`. \n",
    "\n",
    "Why have the original values not changed? Does the function actually assign new values to the input parameter?"
   ]
  },
  {
   "cell_type": "code",
   "execution_count": 5,
   "metadata": {},
   "outputs": [
    {
     "data": {
      "text/plain": [
       "array([1.8 , 0.68])"
      ]
     },
     "execution_count": 5,
     "metadata": {},
     "output_type": "execute_result"
    }
   ],
   "source": [
    "# print data in `arrayname`\n",
    "arrayname"
   ]
  },
  {
   "cell_type": "markdown",
   "metadata": {},
   "source": [
    "**Why would the function `add_five` not be able to take lists or `pandas dataframes` as an input?** Look carefully at the code that the function executes. "
   ]
  },
  {
   "cell_type": "markdown",
   "metadata": {},
   "source": [
    "## Optional Challenge \n",
    "\n",
    "Test your `Python` skills to:\n",
    "\n",
    "1. Write a function to convert an input parameter value from inches to millimeters. Recall that one inch is equal to 25.4 millimeters. \n",
    "\n",
    "    * See the example function `add_five()` that adds the value of 5 to the input parameter. \n",
    "    * Begin with the `def` keyword and a clear function name that tells the user what the function does.\n",
    "    * Use a placeholder name for the input parameter that is also clear and tells the user what the function is expecting. \n",
    "    * Because your code is simple, your return statement can contain the code that calculates the output within parenthesis `()`, just like `add_five()`. \n",
    "    * Be sure to add documentation about the input and output parameters of the function.\n",
    "\n",
    "2. Run your function on the value `1.8` (i.e. your input parameter).\n"
   ]
  },
  {
   "cell_type": "code",
   "execution_count": 6,
   "metadata": {},
   "outputs": [
    {
     "data": {
      "text/plain": [
       "45.72"
      ]
     },
     "execution_count": 6,
     "metadata": {},
     "output_type": "execute_result"
    }
   ],
   "source": [
    "\n",
    "def inches_to_mm(x):\n",
    "    \n",
    "    # multiply the value of 25.4 to an input parameter representing inch measurements\n",
    "    # function can take a single value, single value variable, or numpy array as input\n",
    "    # function can not take list or pandas dataframe as input\n",
    "    \n",
    "    return (x*25.4)\n",
    "\n",
    "inches_to_mm(1.8)"
   ]
  },
  {
   "cell_type": "markdown",
   "metadata": {},
   "source": [
    "#### <i>jbot</i>"
   ]
  },
  {
   "cell_type": "code",
   "execution_count": null,
   "metadata": {},
   "outputs": [],
   "source": []
  }
 ],
 "metadata": {
  "celltoolbar": "Tags",
  "kernelspec": {
   "display_name": "Python 3",
   "language": "python",
   "name": "python3"
  },
  "language_info": {
   "codemirror_mode": {
    "name": "ipython",
    "version": 3
   },
   "file_extension": ".py",
   "mimetype": "text/x-python",
   "name": "python",
   "nbconvert_exporter": "python",
   "pygments_lexer": "ipython3",
   "version": "3.7.4"
  }
 },
 "nbformat": 4,
 "nbformat_minor": 2
}
